{
 "cells": [
  {
   "cell_type": "code",
   "execution_count": 1,
   "metadata": {
    "tags": []
   },
   "outputs": [],
   "source": [
    "import json\n",
    "import pandas as pd"
   ]
  },
  {
   "cell_type": "code",
   "execution_count": 12,
   "metadata": {
    "tags": []
   },
   "outputs": [],
   "source": [
    "with open('results.json', 'r') as f:\n",
    "    results = json.load(f)"
   ]
  },
  {
   "cell_type": "code",
   "execution_count": 28,
   "metadata": {},
   "outputs": [
    {
     "data": {
      "text/html": [
       "<div>\n",
       "<style scoped>\n",
       "    .dataframe tbody tr th:only-of-type {\n",
       "        vertical-align: middle;\n",
       "    }\n",
       "\n",
       "    .dataframe tbody tr th {\n",
       "        vertical-align: top;\n",
       "    }\n",
       "\n",
       "    .dataframe thead th {\n",
       "        text-align: right;\n",
       "    }\n",
       "</style>\n",
       "<table border=\"1\" class=\"dataframe\">\n",
       "  <thead>\n",
       "    <tr style=\"text-align: right;\">\n",
       "      <th></th>\n",
       "      <th>Grid resolution</th>\n",
       "      <th>P1 Element error</th>\n",
       "      <th>P1 Element grad error</th>\n",
       "      <th>P1 Element CPU time</th>\n",
       "      <th>P2 Element error</th>\n",
       "      <th>P2 Element grad error</th>\n",
       "      <th>P2 Element CPU time</th>\n",
       "    </tr>\n",
       "  </thead>\n",
       "  <tbody>\n",
       "    <tr>\n",
       "      <th>0</th>\n",
       "      <td>11</td>\n",
       "      <td>0.018544</td>\n",
       "      <td>0.049509</td>\n",
       "      <td>0.006729</td>\n",
       "      <td>6.855192e-04</td>\n",
       "      <td>0.005379</td>\n",
       "      <td>0.010750</td>\n",
       "    </tr>\n",
       "    <tr>\n",
       "      <th>1</th>\n",
       "      <td>36</td>\n",
       "      <td>0.001509</td>\n",
       "      <td>0.014183</td>\n",
       "      <td>0.019058</td>\n",
       "      <td>1.769789e-05</td>\n",
       "      <td>0.000466</td>\n",
       "      <td>0.080473</td>\n",
       "    </tr>\n",
       "    <tr>\n",
       "      <th>2</th>\n",
       "      <td>113</td>\n",
       "      <td>0.000166</td>\n",
       "      <td>0.004694</td>\n",
       "      <td>0.205638</td>\n",
       "      <td>5.679937e-07</td>\n",
       "      <td>0.000050</td>\n",
       "      <td>0.886369</td>\n",
       "    </tr>\n",
       "  </tbody>\n",
       "</table>\n",
       "</div>"
      ],
      "text/plain": [
       "   Grid resolution  P1 Element error  P1 Element grad error  \\\n",
       "0               11          0.018544               0.049509   \n",
       "1               36          0.001509               0.014183   \n",
       "2              113          0.000166               0.004694   \n",
       "\n",
       "   P1 Element CPU time  P2 Element error  P2 Element grad error  \\\n",
       "0             0.006729      6.855192e-04               0.005379   \n",
       "1             0.019058      1.769789e-05               0.000466   \n",
       "2             0.205638      5.679937e-07               0.000050   \n",
       "\n",
       "   P2 Element CPU time  \n",
       "0             0.010750  \n",
       "1             0.080473  \n",
       "2             0.886369  "
      ]
     },
     "execution_count": 28,
     "metadata": {},
     "output_type": "execute_result"
    }
   ],
   "source": [
    "df = pd.DataFrame(data=results)\n",
    "df.loc[:, 'Grid resolution'] = df['Grid resolution'].apply(round)\n",
    "df"
   ]
  },
  {
   "cell_type": "code",
   "execution_count": 30,
   "metadata": {},
   "outputs": [],
   "source": [
    "df.to_excel('results.xlsx', index=False)"
   ]
  },
  {
   "cell_type": "code",
   "execution_count": null,
   "metadata": {},
   "outputs": [],
   "source": []
  }
 ],
 "metadata": {
  "kernelspec": {
   "display_name": "Python 3.9.12 ('base')",
   "language": "python",
   "name": "python3"
  },
  "language_info": {
   "codemirror_mode": {
    "name": "ipython",
    "version": 3
   },
   "file_extension": ".py",
   "mimetype": "text/x-python",
   "name": "python",
   "nbconvert_exporter": "python",
   "pygments_lexer": "ipython3",
   "version": "3.9.12"
  },
  "orig_nbformat": 4,
  "vscode": {
   "interpreter": {
    "hash": "9cc64be57c75e5f25fb1c812872d4f451f7769e7f8d88be9079727856779f0de"
   }
  }
 },
 "nbformat": 4,
 "nbformat_minor": 2
}
